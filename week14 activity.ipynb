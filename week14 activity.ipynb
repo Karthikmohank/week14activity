{
 "cells": [
  {
   "cell_type": "code",
   "execution_count": 1,
   "id": "e16e57be",
   "metadata": {},
   "outputs": [],
   "source": [
    "## importing modules and dataset"
   ]
  },
  {
   "cell_type": "code",
   "execution_count": 2,
   "id": "5ddccdd1",
   "metadata": {},
   "outputs": [],
   "source": [
    "import pandas as pd\n",
    "import numpy as np\n",
    "import matplotlib.pyplot as plt\n",
    "import seaborn as sns"
   ]
  },
  {
   "cell_type": "code",
   "execution_count": 3,
   "id": "f6fd6d63",
   "metadata": {},
   "outputs": [
    {
     "data": {
      "text/html": [
       "<div>\n",
       "<style scoped>\n",
       "    .dataframe tbody tr th:only-of-type {\n",
       "        vertical-align: middle;\n",
       "    }\n",
       "\n",
       "    .dataframe tbody tr th {\n",
       "        vertical-align: top;\n",
       "    }\n",
       "\n",
       "    .dataframe thead th {\n",
       "        text-align: right;\n",
       "    }\n",
       "</style>\n",
       "<table border=\"1\" class=\"dataframe\">\n",
       "  <thead>\n",
       "    <tr style=\"text-align: right;\">\n",
       "      <th></th>\n",
       "      <th>country</th>\n",
       "      <th>child_mort</th>\n",
       "      <th>exports</th>\n",
       "      <th>health</th>\n",
       "      <th>imports</th>\n",
       "      <th>income</th>\n",
       "      <th>inflation</th>\n",
       "      <th>life_expec</th>\n",
       "      <th>total_fer</th>\n",
       "      <th>gdpp</th>\n",
       "    </tr>\n",
       "  </thead>\n",
       "  <tbody>\n",
       "    <tr>\n",
       "      <th>0</th>\n",
       "      <td>Afghanistan</td>\n",
       "      <td>90.2</td>\n",
       "      <td>10.0</td>\n",
       "      <td>7.58</td>\n",
       "      <td>44.9</td>\n",
       "      <td>1610</td>\n",
       "      <td>9.44</td>\n",
       "      <td>56.2</td>\n",
       "      <td>5.82</td>\n",
       "      <td>553</td>\n",
       "    </tr>\n",
       "    <tr>\n",
       "      <th>1</th>\n",
       "      <td>Albania</td>\n",
       "      <td>16.6</td>\n",
       "      <td>28.0</td>\n",
       "      <td>6.55</td>\n",
       "      <td>48.6</td>\n",
       "      <td>9930</td>\n",
       "      <td>4.49</td>\n",
       "      <td>76.3</td>\n",
       "      <td>1.65</td>\n",
       "      <td>4090</td>\n",
       "    </tr>\n",
       "    <tr>\n",
       "      <th>2</th>\n",
       "      <td>Algeria</td>\n",
       "      <td>27.3</td>\n",
       "      <td>38.4</td>\n",
       "      <td>4.17</td>\n",
       "      <td>31.4</td>\n",
       "      <td>12900</td>\n",
       "      <td>16.10</td>\n",
       "      <td>76.5</td>\n",
       "      <td>2.89</td>\n",
       "      <td>4460</td>\n",
       "    </tr>\n",
       "    <tr>\n",
       "      <th>3</th>\n",
       "      <td>Angola</td>\n",
       "      <td>119.0</td>\n",
       "      <td>62.3</td>\n",
       "      <td>2.85</td>\n",
       "      <td>42.9</td>\n",
       "      <td>5900</td>\n",
       "      <td>22.40</td>\n",
       "      <td>60.1</td>\n",
       "      <td>6.16</td>\n",
       "      <td>3530</td>\n",
       "    </tr>\n",
       "    <tr>\n",
       "      <th>4</th>\n",
       "      <td>Antigua and Barbuda</td>\n",
       "      <td>10.3</td>\n",
       "      <td>45.5</td>\n",
       "      <td>6.03</td>\n",
       "      <td>58.9</td>\n",
       "      <td>19100</td>\n",
       "      <td>1.44</td>\n",
       "      <td>76.8</td>\n",
       "      <td>2.13</td>\n",
       "      <td>12200</td>\n",
       "    </tr>\n",
       "  </tbody>\n",
       "</table>\n",
       "</div>"
      ],
      "text/plain": [
       "               country  child_mort  exports  health  imports  income  \\\n",
       "0          Afghanistan        90.2     10.0    7.58     44.9    1610   \n",
       "1              Albania        16.6     28.0    6.55     48.6    9930   \n",
       "2              Algeria        27.3     38.4    4.17     31.4   12900   \n",
       "3               Angola       119.0     62.3    2.85     42.9    5900   \n",
       "4  Antigua and Barbuda        10.3     45.5    6.03     58.9   19100   \n",
       "\n",
       "   inflation  life_expec  total_fer   gdpp  \n",
       "0       9.44        56.2       5.82    553  \n",
       "1       4.49        76.3       1.65   4090  \n",
       "2      16.10        76.5       2.89   4460  \n",
       "3      22.40        60.1       6.16   3530  \n",
       "4       1.44        76.8       2.13  12200  "
      ]
     },
     "execution_count": 3,
     "metadata": {},
     "output_type": "execute_result"
    }
   ],
   "source": [
    "data=pd.read_csv(r'C:\\Users\\acer\\Downloads\\Country-data.csv')\n",
    "data.head()"
   ]
  },
  {
   "cell_type": "code",
   "execution_count": 4,
   "id": "a4f5a99b",
   "metadata": {},
   "outputs": [],
   "source": [
    "dat=data.drop('country',axis=1)\n",
    "d=dat"
   ]
  },
  {
   "cell_type": "code",
   "execution_count": 5,
   "id": "23df481d",
   "metadata": {},
   "outputs": [
    {
     "data": {
      "text/plain": [
       "(167, 9)"
      ]
     },
     "execution_count": 5,
     "metadata": {},
     "output_type": "execute_result"
    }
   ],
   "source": [
    "d.shape"
   ]
  },
  {
   "cell_type": "code",
   "execution_count": 6,
   "id": "e9d15dc5",
   "metadata": {},
   "outputs": [
    {
     "data": {
      "text/plain": [
       "Index(['child_mort', 'exports', 'health', 'imports', 'income', 'inflation',\n",
       "       'life_expec', 'total_fer', 'gdpp'],\n",
       "      dtype='object')"
      ]
     },
     "execution_count": 6,
     "metadata": {},
     "output_type": "execute_result"
    }
   ],
   "source": [
    "d.columns"
   ]
  },
  {
   "cell_type": "code",
   "execution_count": 7,
   "id": "b4b0a6fa",
   "metadata": {},
   "outputs": [
    {
     "data": {
      "text/plain": [
       "child_mort    float64\n",
       "exports       float64\n",
       "health        float64\n",
       "imports       float64\n",
       "income          int64\n",
       "inflation     float64\n",
       "life_expec    float64\n",
       "total_fer     float64\n",
       "gdpp            int64\n",
       "dtype: object"
      ]
     },
     "execution_count": 7,
     "metadata": {},
     "output_type": "execute_result"
    }
   ],
   "source": [
    "d.dtypes"
   ]
  },
  {
   "cell_type": "code",
   "execution_count": 8,
   "id": "bf5a64b1",
   "metadata": {},
   "outputs": [
    {
     "data": {
      "text/html": [
       "<div>\n",
       "<style scoped>\n",
       "    .dataframe tbody tr th:only-of-type {\n",
       "        vertical-align: middle;\n",
       "    }\n",
       "\n",
       "    .dataframe tbody tr th {\n",
       "        vertical-align: top;\n",
       "    }\n",
       "\n",
       "    .dataframe thead th {\n",
       "        text-align: right;\n",
       "    }\n",
       "</style>\n",
       "<table border=\"1\" class=\"dataframe\">\n",
       "  <thead>\n",
       "    <tr style=\"text-align: right;\">\n",
       "      <th></th>\n",
       "      <th>child_mort</th>\n",
       "      <th>exports</th>\n",
       "      <th>health</th>\n",
       "      <th>imports</th>\n",
       "      <th>income</th>\n",
       "      <th>inflation</th>\n",
       "      <th>life_expec</th>\n",
       "      <th>total_fer</th>\n",
       "      <th>gdpp</th>\n",
       "    </tr>\n",
       "  </thead>\n",
       "  <tbody>\n",
       "    <tr>\n",
       "      <th>count</th>\n",
       "      <td>167.000000</td>\n",
       "      <td>167.000000</td>\n",
       "      <td>167.000000</td>\n",
       "      <td>167.000000</td>\n",
       "      <td>167.000000</td>\n",
       "      <td>167.000000</td>\n",
       "      <td>167.000000</td>\n",
       "      <td>167.000000</td>\n",
       "      <td>167.000000</td>\n",
       "    </tr>\n",
       "    <tr>\n",
       "      <th>mean</th>\n",
       "      <td>38.270060</td>\n",
       "      <td>41.108976</td>\n",
       "      <td>6.815689</td>\n",
       "      <td>46.890215</td>\n",
       "      <td>17144.688623</td>\n",
       "      <td>7.781832</td>\n",
       "      <td>70.555689</td>\n",
       "      <td>2.947964</td>\n",
       "      <td>12964.155689</td>\n",
       "    </tr>\n",
       "    <tr>\n",
       "      <th>std</th>\n",
       "      <td>40.328931</td>\n",
       "      <td>27.412010</td>\n",
       "      <td>2.746837</td>\n",
       "      <td>24.209589</td>\n",
       "      <td>19278.067698</td>\n",
       "      <td>10.570704</td>\n",
       "      <td>8.893172</td>\n",
       "      <td>1.513848</td>\n",
       "      <td>18328.704809</td>\n",
       "    </tr>\n",
       "    <tr>\n",
       "      <th>min</th>\n",
       "      <td>2.600000</td>\n",
       "      <td>0.109000</td>\n",
       "      <td>1.810000</td>\n",
       "      <td>0.065900</td>\n",
       "      <td>609.000000</td>\n",
       "      <td>-4.210000</td>\n",
       "      <td>32.100000</td>\n",
       "      <td>1.150000</td>\n",
       "      <td>231.000000</td>\n",
       "    </tr>\n",
       "    <tr>\n",
       "      <th>25%</th>\n",
       "      <td>8.250000</td>\n",
       "      <td>23.800000</td>\n",
       "      <td>4.920000</td>\n",
       "      <td>30.200000</td>\n",
       "      <td>3355.000000</td>\n",
       "      <td>1.810000</td>\n",
       "      <td>65.300000</td>\n",
       "      <td>1.795000</td>\n",
       "      <td>1330.000000</td>\n",
       "    </tr>\n",
       "    <tr>\n",
       "      <th>50%</th>\n",
       "      <td>19.300000</td>\n",
       "      <td>35.000000</td>\n",
       "      <td>6.320000</td>\n",
       "      <td>43.300000</td>\n",
       "      <td>9960.000000</td>\n",
       "      <td>5.390000</td>\n",
       "      <td>73.100000</td>\n",
       "      <td>2.410000</td>\n",
       "      <td>4660.000000</td>\n",
       "    </tr>\n",
       "    <tr>\n",
       "      <th>75%</th>\n",
       "      <td>62.100000</td>\n",
       "      <td>51.350000</td>\n",
       "      <td>8.600000</td>\n",
       "      <td>58.750000</td>\n",
       "      <td>22800.000000</td>\n",
       "      <td>10.750000</td>\n",
       "      <td>76.800000</td>\n",
       "      <td>3.880000</td>\n",
       "      <td>14050.000000</td>\n",
       "    </tr>\n",
       "    <tr>\n",
       "      <th>max</th>\n",
       "      <td>208.000000</td>\n",
       "      <td>200.000000</td>\n",
       "      <td>17.900000</td>\n",
       "      <td>174.000000</td>\n",
       "      <td>125000.000000</td>\n",
       "      <td>104.000000</td>\n",
       "      <td>82.800000</td>\n",
       "      <td>7.490000</td>\n",
       "      <td>105000.000000</td>\n",
       "    </tr>\n",
       "  </tbody>\n",
       "</table>\n",
       "</div>"
      ],
      "text/plain": [
       "       child_mort     exports      health     imports         income  \\\n",
       "count  167.000000  167.000000  167.000000  167.000000     167.000000   \n",
       "mean    38.270060   41.108976    6.815689   46.890215   17144.688623   \n",
       "std     40.328931   27.412010    2.746837   24.209589   19278.067698   \n",
       "min      2.600000    0.109000    1.810000    0.065900     609.000000   \n",
       "25%      8.250000   23.800000    4.920000   30.200000    3355.000000   \n",
       "50%     19.300000   35.000000    6.320000   43.300000    9960.000000   \n",
       "75%     62.100000   51.350000    8.600000   58.750000   22800.000000   \n",
       "max    208.000000  200.000000   17.900000  174.000000  125000.000000   \n",
       "\n",
       "        inflation  life_expec   total_fer           gdpp  \n",
       "count  167.000000  167.000000  167.000000     167.000000  \n",
       "mean     7.781832   70.555689    2.947964   12964.155689  \n",
       "std     10.570704    8.893172    1.513848   18328.704809  \n",
       "min     -4.210000   32.100000    1.150000     231.000000  \n",
       "25%      1.810000   65.300000    1.795000    1330.000000  \n",
       "50%      5.390000   73.100000    2.410000    4660.000000  \n",
       "75%     10.750000   76.800000    3.880000   14050.000000  \n",
       "max    104.000000   82.800000    7.490000  105000.000000  "
      ]
     },
     "execution_count": 8,
     "metadata": {},
     "output_type": "execute_result"
    }
   ],
   "source": [
    "d.describe()"
   ]
  },
  {
   "cell_type": "code",
   "execution_count": 9,
   "id": "bf93edf4",
   "metadata": {},
   "outputs": [
    {
     "data": {
      "text/plain": [
       "child_mort    0\n",
       "exports       0\n",
       "health        0\n",
       "imports       0\n",
       "income        0\n",
       "inflation     0\n",
       "life_expec    0\n",
       "total_fer     0\n",
       "gdpp          0\n",
       "dtype: int64"
      ]
     },
     "execution_count": 9,
     "metadata": {},
     "output_type": "execute_result"
    }
   ],
   "source": [
    "d.isnull().sum()"
   ]
  },
  {
   "cell_type": "code",
   "execution_count": 10,
   "id": "233ac8bf",
   "metadata": {},
   "outputs": [],
   "source": [
    "## checking and handling outliers\""
   ]
  },
  {
   "cell_type": "code",
   "execution_count": 11,
   "id": "f1cfeeb6",
   "metadata": {},
   "outputs": [
    {
     "data": {
      "text/plain": [
       "[]"
      ]
     },
     "execution_count": 11,
     "metadata": {},
     "output_type": "execute_result"
    },
    {
     "data": {
      "image/png": "[encoded data removed]",
      "text/plain": [
       "<Figure size 432x288 with 1 Axes>"
      ]
     },
     "metadata": {
      "needs_background": "light"
     },
     "output_type": "display_data"
    }
   ],
   "source": [
    "d[['child_mort','exports','health','imports','inflation','life_expec','total_fer']].boxplot()\n",
    "plt.plot()"
   ]
  },
  {
   "cell_type": "code",
   "execution_count": 12,
   "id": "23f79a4d",
   "metadata": {},
   "outputs": [
    {
     "data": {
      "text/plain": [
       "<AxesSubplot:>"
      ]
     },
     "execution_count": 12,
     "metadata": {},
     "output_type": "execute_result"
    },
    {
     "data": {
      "image/png": "[encoded data removed]",
      "text/plain": [
       "<Figure size 432x288 with 1 Axes>"
      ]
     },
     "metadata": {
      "needs_background": "light"
     },
     "output_type": "display_data"
    }
   ],
   "source": [
    "d[['income','gdpp']].boxplot()"
   ]
  },
  {
   "cell_type": "code",
   "execution_count": 13,
   "id": "8558c4b0",
   "metadata": {},
   "outputs": [],
   "source": [
    "for column in d.columns[1:]:\n",
    "    q1=data[column].quantile(0.25)\n",
    "    q3=data[column].quantile(0.75)\n",
    "    iqr=q3-q1\n",
    "    l_l=q1-iqr*1.5\n",
    "    u_l=q3+iqr*1.5\n",
    "    d.loc[d[column]<l_l,column]=l_l\n",
    "    d.loc[d[column]>u_l,column]=u_l"
   ]
  },
  {
   "cell_type": "code",
   "execution_count": 14,
   "id": "c98b8415",
   "metadata": {},
   "outputs": [
    {
     "data": {
      "text/plain": [
       "<AxesSubplot:>"
      ]
     },
     "execution_count": 14,
     "metadata": {},
     "output_type": "execute_result"
    },
    {
     "data": {
      "image/png": "[encoded data removed]",
      "text/plain": [
       "<Figure size 432x288 with 1 Axes>"
      ]
     },
     "metadata": {
      "needs_background": "light"
     },
     "output_type": "display_data"
    }
   ],
   "source": [
    "d[['income','gdpp']].boxplot()"
   ]
  },
  {
   "cell_type": "code",
   "execution_count": 15,
   "id": "a022b3b3",
   "metadata": {},
   "outputs": [
    {
     "data": {
      "text/plain": [
       "[]"
      ]
     },
     "execution_count": 15,
     "metadata": {},
     "output_type": "execute_result"
    },
    {
     "data": {
      "image/png": "[encoded data removed]",
      "text/plain": [
       "<Figure size 432x288 with 1 Axes>"
      ]
     },
     "metadata": {
      "needs_background": "light"
     },
     "output_type": "display_data"
    }
   ],
   "source": [
    "d[['child_mort','exports','health','imports','inflation','life_expec','total_fer']].boxplot()\n",
    "plt.plot()"
   ]
  },
  {
   "cell_type": "code",
   "execution_count": 16,
   "id": "db0895a5",
   "metadata": {},
   "outputs": [
    {
     "data": {
      "text/plain": [
       "array([[<AxesSubplot:title={'center':'child_mort'}>,\n",
       "        <AxesSubplot:title={'center':'exports'}>,\n",
       "        <AxesSubplot:title={'center':'health'}>],\n",
       "       [<AxesSubplot:title={'center':'imports'}>,\n",
       "        <AxesSubplot:title={'center':'income'}>,\n",
       "        <AxesSubplot:title={'center':'inflation'}>],\n",
       "       [<AxesSubplot:title={'center':'life_expec'}>,\n",
       "        <AxesSubplot:title={'center':'total_fer'}>,\n",
       "        <AxesSubplot:title={'center':'gdpp'}>]], dtype=object)"
      ]
     },
     "execution_count": 16,
     "metadata": {},
     "output_type": "execute_result"
    },
    {
     "data": {
      "image/png": "[encoded data removed]",
      "text/plain": [
       "<Figure size 720x720 with 9 Axes>"
      ]
     },
     "metadata": {
      "needs_background": "light"
     },
     "output_type": "display_data"
    }
   ],
   "source": [
    "d.hist(figsize=(10,10))"
   ]
  },
  {
   "cell_type": "code",
   "execution_count": 17,
   "id": "679ad33e",
   "metadata": {},
   "outputs": [
    {
     "data": {
      "text/html": [
       "<div>\n",
       "<style scoped>\n",
       "    .dataframe tbody tr th:only-of-type {\n",
       "        vertical-align: middle;\n",
       "    }\n",
       "\n",
       "    .dataframe tbody tr th {\n",
       "        vertical-align: top;\n",
       "    }\n",
       "\n",
       "    .dataframe thead th {\n",
       "        text-align: right;\n",
       "    }\n",
       "</style>\n",
       "<table border=\"1\" class=\"dataframe\">\n",
       "  <thead>\n",
       "    <tr style=\"text-align: right;\">\n",
       "      <th></th>\n",
       "      <th>child_mort</th>\n",
       "      <th>exports</th>\n",
       "      <th>health</th>\n",
       "      <th>imports</th>\n",
       "      <th>income</th>\n",
       "      <th>inflation</th>\n",
       "      <th>life_expec</th>\n",
       "      <th>total_fer</th>\n",
       "      <th>gdpp</th>\n",
       "    </tr>\n",
       "  </thead>\n",
       "  <tbody>\n",
       "    <tr>\n",
       "      <th>0</th>\n",
       "      <td>1.291532</td>\n",
       "      <td>-1.391107</td>\n",
       "      <td>0.296013</td>\n",
       "      <td>-0.047444</td>\n",
       "      <td>-0.943936</td>\n",
       "      <td>0.355270</td>\n",
       "      <td>-1.702225</td>\n",
       "      <td>1.915276</td>\n",
       "      <td>-0.846341</td>\n",
       "    </tr>\n",
       "    <tr>\n",
       "      <th>1</th>\n",
       "      <td>-0.538949</td>\n",
       "      <td>-0.543547</td>\n",
       "      <td>-0.091190</td>\n",
       "      <td>0.135021</td>\n",
       "      <td>-0.395181</td>\n",
       "      <td>-0.385208</td>\n",
       "      <td>0.663321</td>\n",
       "      <td>-0.862779</td>\n",
       "      <td>-0.540827</td>\n",
       "    </tr>\n",
       "    <tr>\n",
       "      <th>2</th>\n",
       "      <td>-0.272833</td>\n",
       "      <td>-0.053846</td>\n",
       "      <td>-0.985893</td>\n",
       "      <td>-0.713196</td>\n",
       "      <td>-0.199291</td>\n",
       "      <td>1.351551</td>\n",
       "      <td>0.686859</td>\n",
       "      <td>-0.036691</td>\n",
       "      <td>-0.508868</td>\n",
       "    </tr>\n",
       "    <tr>\n",
       "      <th>3</th>\n",
       "      <td>2.007808</td>\n",
       "      <td>1.071524</td>\n",
       "      <td>-1.482114</td>\n",
       "      <td>-0.146074</td>\n",
       "      <td>-0.660984</td>\n",
       "      <td>2.293979</td>\n",
       "      <td>-1.243238</td>\n",
       "      <td>2.141784</td>\n",
       "      <td>-0.589198</td>\n",
       "    </tr>\n",
       "    <tr>\n",
       "      <th>4</th>\n",
       "      <td>-0.695634</td>\n",
       "      <td>0.280469</td>\n",
       "      <td>-0.286671</td>\n",
       "      <td>0.642965</td>\n",
       "      <td>0.209637</td>\n",
       "      <td>-0.841463</td>\n",
       "      <td>0.722166</td>\n",
       "      <td>-0.543003</td>\n",
       "      <td>0.159686</td>\n",
       "    </tr>\n",
       "  </tbody>\n",
       "</table>\n",
       "</div>"
      ],
      "text/plain": [
       "   child_mort   exports    health   imports    income  inflation  life_expec  \\\n",
       "0    1.291532 -1.391107  0.296013 -0.047444 -0.943936   0.355270   -1.702225   \n",
       "1   -0.538949 -0.543547 -0.091190  0.135021 -0.395181  -0.385208    0.663321   \n",
       "2   -0.272833 -0.053846 -0.985893 -0.713196 -0.199291   1.351551    0.686859   \n",
       "3    2.007808  1.071524 -1.482114 -0.146074 -0.660984   2.293979   -1.243238   \n",
       "4   -0.695634  0.280469 -0.286671  0.642965  0.209637  -0.841463    0.722166   \n",
       "\n",
       "   total_fer      gdpp  \n",
       "0   1.915276 -0.846341  \n",
       "1  -0.862779 -0.540827  \n",
       "2  -0.036691 -0.508868  \n",
       "3   2.141784 -0.589198  \n",
       "4  -0.543003  0.159686  "
      ]
     },
     "execution_count": 17,
     "metadata": {},
     "output_type": "execute_result"
    }
   ],
   "source": [
    "##scaling the data\n",
    "from sklearn.preprocessing import StandardScaler\n",
    "scalar=StandardScaler()\n",
    "d=scalar.fit_transform(d)\n",
    "d=pd.DataFrame(d,columns=dat.columns)\n",
    "d.head()"
   ]
  },
  {
   "cell_type": "code",
   "execution_count": 18,
   "id": "6fe3a800",
   "metadata": {},
   "outputs": [],
   "source": [
    "## KMEANS clustering"
   ]
  },
  {
   "cell_type": "code",
   "execution_count": 19,
   "id": "60ebb08f",
   "metadata": {},
   "outputs": [
    {
     "name": "stderr",
     "output_type": "stream",
     "text": [
      "C:\\Users\\acer\\anaconda3\\lib\\site-packages\\sklearn\\cluster\\_kmeans.py:1036: UserWarning: KMeans is known to have a memory leak on Windows with MKL, when there are less chunks than available threads. You can avoid it by setting the environment variable OMP_NUM_THREADS=1.\n",
      "  warnings.warn(\n"
     ]
    }
   ],
   "source": [
    "from sklearn.cluster import KMeans\n",
    "wcss=[]\n",
    "for i in range(1,11):\n",
    "    kmeans=KMeans(n_clusters=i,init='k-means++',random_state=50)\n",
    "    kmeans.fit(d)\n",
    "    wcss.append(kmeans.inertia_)"
   ]
  },
  {
   "cell_type": "code",
   "execution_count": 20,
   "id": "3d17808d",
   "metadata": {},
   "outputs": [
    {
     "data": {
      "image/png": "[encoded data removed]",
      "text/plain": [
       "<Figure size 432x288 with 1 Axes>"
      ]
     },
     "metadata": {
      "needs_background": "light"
     },
     "output_type": "display_data"
    }
   ],
   "source": [
    "plt.plot(range(1,11),wcss)\n",
    "plt.title('Elbow method')\n",
    "plt.xlabel('number of cluters')\n",
    "plt.ylabel('wcss')\n",
    "plt.show()"
   ]
  },
  {
   "cell_type": "code",
   "execution_count": 21,
   "id": "788c6f31",
   "metadata": {},
   "outputs": [
    {
     "data": {
      "text/plain": [
       "array([1, 2, 2, 1, 2, 2, 2, 0, 0, 2, 0, 0, 2, 2, 2, 0, 2, 1, 2, 2, 2, 2,\n",
       "       2, 0, 2, 1, 1, 2, 1, 0, 2, 1, 1, 2, 2, 2, 1, 1, 1, 2, 1, 2, 0, 0,\n",
       "       0, 2, 2, 2, 2, 1, 1, 2, 2, 0, 0, 1, 1, 2, 0, 1, 0, 2, 2, 1, 1, 2,\n",
       "       1, 2, 0, 2, 2, 2, 1, 0, 0, 0, 2, 0, 2, 2, 1, 1, 0, 2, 1, 2, 2, 1,\n",
       "       1, 2, 2, 0, 2, 1, 1, 2, 2, 1, 0, 1, 2, 2, 2, 2, 2, 2, 1, 1, 2, 2,\n",
       "       0, 0, 1, 1, 0, 0, 1, 2, 2, 2, 2, 2, 0, 0, 2, 2, 1, 2, 0, 1, 2, 2,\n",
       "       1, 0, 0, 0, 2, 1, 0, 0, 2, 2, 1, 2, 0, 0, 2, 1, 2, 1, 1, 2, 2, 2,\n",
       "       2, 1, 2, 0, 0, 0, 2, 2, 2, 2, 2, 1, 1])"
      ]
     },
     "execution_count": 21,
     "metadata": {},
     "output_type": "execute_result"
    }
   ],
   "source": [
    "kmeans=KMeans(n_clusters=3,init='k-means++',random_state=50)\n",
    "lab1=kmeans.fit_predict(d)\n",
    "lab1"
   ]
  },
  {
   "cell_type": "code",
   "execution_count": 22,
   "id": "225772ee",
   "metadata": {},
   "outputs": [
    {
     "data": {
      "image/png": "[encoded data removed]",
      "text/plain": [
       "<Figure size 432x288 with 1 Axes>"
      ]
     },
     "metadata": {
      "needs_background": "light"
     },
     "output_type": "display_data"
    }
   ],
   "source": [
    "m=d['health']\n",
    "n=d['gdpp']\n",
    "plt.scatter(m,n,c=lab1)\n",
    "plt.title('clustering of health,gdpp')\n",
    "plt.xlabel('Health')\n",
    "plt.ylabel('GDPP')\n",
    "plt.legend(lab1)\n",
    "plt.show()"
   ]
  },
  {
   "cell_type": "code",
   "execution_count": 23,
   "id": "ad80471f",
   "metadata": {},
   "outputs": [
    {
     "name": "stdout",
     "output_type": "stream",
     "text": [
      "7                 Australia\n",
      "8                   Austria\n",
      "10                  Bahamas\n",
      "11                  Bahrain\n",
      "15                  Belgium\n",
      "23                   Brunei\n",
      "29                   Canada\n",
      "42                   Cyprus\n",
      "43           Czech Republic\n",
      "44                  Denmark\n",
      "53                  Finland\n",
      "54                   France\n",
      "58                  Germany\n",
      "60                   Greece\n",
      "68                  Iceland\n",
      "73                  Ireland\n",
      "74                   Israel\n",
      "75                    Italy\n",
      "77                    Japan\n",
      "82                   Kuwait\n",
      "91               Luxembourg\n",
      "98                    Malta\n",
      "110             Netherlands\n",
      "111             New Zealand\n",
      "114                  Norway\n",
      "115                    Oman\n",
      "122                Portugal\n",
      "123                   Qatar\n",
      "128            Saudi Arabia\n",
      "133               Singapore\n",
      "134         Slovak Republic\n",
      "135                Slovenia\n",
      "138             South Korea\n",
      "139                   Spain\n",
      "144                  Sweden\n",
      "145             Switzerland\n",
      "157    United Arab Emirates\n",
      "158          United Kingdom\n",
      "159           United States\n",
      "Name: country, dtype: object\n"
     ]
    }
   ],
   "source": [
    "ind2=np.where(lab1==0)\n",
    "cnt=data.iloc[ind2]\n",
    "print(cnt['country'])"
   ]
  },
  {
   "cell_type": "code",
   "execution_count": 24,
   "id": "e33d59ea",
   "metadata": {},
   "outputs": [
    {
     "name": "stdout",
     "output_type": "stream",
     "text": [
      "0                   Afghanistan\n",
      "3                        Angola\n",
      "17                        Benin\n",
      "25                 Burkina Faso\n",
      "26                      Burundi\n",
      "28                     Cameroon\n",
      "31     Central African Republic\n",
      "32                         Chad\n",
      "36                      Comoros\n",
      "37             Congo, Dem. Rep.\n",
      "38                  Congo, Rep.\n",
      "40                Cote d'Ivoire\n",
      "49            Equatorial Guinea\n",
      "50                      Eritrea\n",
      "55                        Gabon\n",
      "56                       Gambia\n",
      "59                        Ghana\n",
      "63                       Guinea\n",
      "64                Guinea-Bissau\n",
      "66                        Haiti\n",
      "72                         Iraq\n",
      "80                        Kenya\n",
      "81                     Kiribati\n",
      "84                          Lao\n",
      "87                      Lesotho\n",
      "88                      Liberia\n",
      "93                   Madagascar\n",
      "94                       Malawi\n",
      "97                         Mali\n",
      "99                   Mauritania\n",
      "106                  Mozambique\n",
      "107                     Myanmar\n",
      "112                       Niger\n",
      "113                     Nigeria\n",
      "116                    Pakistan\n",
      "126                      Rwanda\n",
      "129                     Senegal\n",
      "132                Sierra Leone\n",
      "137                South Africa\n",
      "142                       Sudan\n",
      "147                    Tanzania\n",
      "149                 Timor-Leste\n",
      "150                        Togo\n",
      "155                      Uganda\n",
      "165                       Yemen\n",
      "166                      Zambia\n",
      "Name: country, dtype: object\n"
     ]
    }
   ],
   "source": [
    "ind2=np.where(lab1==1)\n",
    "cnt1=data.iloc[ind2]\n",
    "print(cnt1['country'])"
   ]
  },
  {
   "cell_type": "code",
   "execution_count": 25,
   "id": "9ad1283d",
   "metadata": {},
   "outputs": [
    {
     "name": "stdout",
     "output_type": "stream",
     "text": [
      "1                  Albania\n",
      "2                  Algeria\n",
      "4      Antigua and Barbuda\n",
      "5                Argentina\n",
      "6                  Armenia\n",
      "              ...         \n",
      "160                Uruguay\n",
      "161             Uzbekistan\n",
      "162                Vanuatu\n",
      "163              Venezuela\n",
      "164                Vietnam\n",
      "Name: country, Length: 82, dtype: object\n"
     ]
    }
   ],
   "source": [
    "ind2=np.where(lab1==2)\n",
    "cnt2=data.iloc[ind2]\n",
    "print(cnt2['country'])"
   ]
  },
  {
   "cell_type": "code",
   "execution_count": 26,
   "id": "33fed6c2",
   "metadata": {},
   "outputs": [
    {
     "data": {
      "text/plain": [
       "(46, 10)"
      ]
     },
     "execution_count": 26,
     "metadata": {},
     "output_type": "execute_result"
    }
   ],
   "source": [
    "cnt1.shape"
   ]
  },
  {
   "cell_type": "code",
   "execution_count": 27,
   "id": "95954bf8",
   "metadata": {},
   "outputs": [
    {
     "name": "stdout",
     "output_type": "stream",
     "text": [
      "silhouette score 0.27859328570272174\n"
     ]
    }
   ],
   "source": [
    "from sklearn.metrics import silhouette_score\n",
    "print('silhouette score',silhouette_score(d,lab1))"
   ]
  },
  {
   "cell_type": "code",
   "execution_count": 28,
   "id": "ef414771",
   "metadata": {},
   "outputs": [],
   "source": [
    "## The countries that need aid are"
   ]
  },
  {
   "cell_type": "code",
   "execution_count": 29,
   "id": "4d6b6921",
   "metadata": {},
   "outputs": [
    {
     "name": "stdout",
     "output_type": "stream",
     "text": [
      "0                   Afghanistan\n",
      "3                        Angola\n",
      "17                        Benin\n",
      "25                 Burkina Faso\n",
      "26                      Burundi\n",
      "28                     Cameroon\n",
      "31     Central African Republic\n",
      "32                         Chad\n",
      "36                      Comoros\n",
      "37             Congo, Dem. Rep.\n",
      "38                  Congo, Rep.\n",
      "40                Cote d'Ivoire\n",
      "49            Equatorial Guinea\n",
      "50                      Eritrea\n",
      "55                        Gabon\n",
      "56                       Gambia\n",
      "59                        Ghana\n",
      "63                       Guinea\n",
      "64                Guinea-Bissau\n",
      "66                        Haiti\n",
      "72                         Iraq\n",
      "80                        Kenya\n",
      "81                     Kiribati\n",
      "84                          Lao\n",
      "87                      Lesotho\n",
      "88                      Liberia\n",
      "93                   Madagascar\n",
      "94                       Malawi\n",
      "97                         Mali\n",
      "99                   Mauritania\n",
      "106                  Mozambique\n",
      "107                     Myanmar\n",
      "112                       Niger\n",
      "113                     Nigeria\n",
      "116                    Pakistan\n",
      "126                      Rwanda\n",
      "129                     Senegal\n",
      "132                Sierra Leone\n",
      "137                South Africa\n",
      "142                       Sudan\n",
      "147                    Tanzania\n",
      "149                 Timor-Leste\n",
      "150                        Togo\n",
      "155                      Uganda\n",
      "165                       Yemen\n",
      "166                      Zambia\n",
      "Name: country, dtype: object\n"
     ]
    }
   ],
   "source": [
    "print(cnt1['country'])"
   ]
  },
  {
   "cell_type": "code",
   "execution_count": null,
   "id": "0f168812",
   "metadata": {},
   "outputs": [],
   "source": []
  }
 ],
 "metadata": {
  "kernelspec": {
   "display_name": "Python 3 (ipykernel)",
   "language": "python",
   "name": "python3"
  },
  "language_info": {
   "codemirror_mode": {
    "name": "ipython",
    "version": 3
   },
   "file_extension": ".py",
   "mimetype": "text/x-python",
   "name": "python",
   "nbconvert_exporter": "python",
   "pygments_lexer": "ipython3",
   "version": "3.9.12"
  }
 },
 "nbformat": 4,
 "nbformat_minor": 5
}
